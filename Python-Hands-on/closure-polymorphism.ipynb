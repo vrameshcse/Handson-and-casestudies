{
 "cells": [
  {
   "cell_type": "code",
   "execution_count": 34,
   "metadata": {},
   "outputs": [
    {
     "name": "stdout",
     "output_type": "stream",
     "text": [
      "Python 3.7.6\n"
     ]
    }
   ],
   "source": [
    "!python --version"
   ]
  },
  {
   "cell_type": "code",
   "execution_count": 35,
   "metadata": {},
   "outputs": [],
   "source": [
    "def functionoverride(fn):\n",
    "    '''Function overriding using python closures'''\n",
    "    registry = dict()\n",
    "    registry['default'] = fn\n",
    "    \n",
    "    def register(case):\n",
    "        '''closure function to implmenet overriding'''\n",
    "        def inner(fn):\n",
    "            registry[case] = fn\n",
    "            return fn\n",
    "        return inner\n",
    "    \n",
    "    def decorated(case,*args):\n",
    "        '''This is the decorated function factory which returns function based on key'''\n",
    "        fn = registry.get(case,registry['default'])\n",
    "        return fn(*args)\n",
    "    \n",
    "    decorated.register = register # handle to call the closure\n",
    "    \n",
    "    return decorated"
   ]
  },
  {
   "cell_type": "code",
   "execution_count": 36,
   "metadata": {},
   "outputs": [],
   "source": [
    "@functionoverride\n",
    "def method_override(*args):\n",
    "    print(\"This is the default function\")"
   ]
  },
  {
   "cell_type": "code",
   "execution_count": 37,
   "metadata": {},
   "outputs": [
    {
     "data": {
      "text/plain": [
       "<function __main__.functionoverride.<locals>.decorated(case, *args)>"
      ]
     },
     "execution_count": 37,
     "metadata": {},
     "output_type": "execute_result"
    }
   ],
   "source": [
    "method_override"
   ]
  },
  {
   "cell_type": "code",
   "execution_count": 38,
   "metadata": {},
   "outputs": [
    {
     "data": {
      "text/plain": [
       "{'register': <function __main__.functionoverride.<locals>.register(case)>}"
      ]
     },
     "execution_count": 38,
     "metadata": {},
     "output_type": "execute_result"
    }
   ],
   "source": [
    "method_override.__dict__"
   ]
  },
  {
   "cell_type": "code",
   "execution_count": 39,
   "metadata": {},
   "outputs": [],
   "source": [
    "@method_override.register('int')\n",
    "def _(*args):\n",
    "    print(f\"sum of intergers: {sum(*args)} and len : {len(*args)}\")"
   ]
  },
  {
   "cell_type": "code",
   "execution_count": 40,
   "metadata": {},
   "outputs": [],
   "source": [
    "@method_override.register('float')\n",
    "def _(*args):\n",
    "    print(f\"sum of floats: {sum(args):.2f} and len: {len(args)}\")"
   ]
  },
  {
   "cell_type": "code",
   "execution_count": 41,
   "metadata": {},
   "outputs": [],
   "source": [
    "@method_override.register('str')\n",
    "def _(*args):\n",
    "    li = [*args]\n",
    "    print(f\"string passed:{li} and len: {len(li)}\")"
   ]
  },
  {
   "cell_type": "code",
   "execution_count": 42,
   "metadata": {},
   "outputs": [
    {
     "name": "stdout",
     "output_type": "stream",
     "text": [
      "sum of intergers: 371 and len : 7\n"
     ]
    }
   ],
   "source": [
    "import random\n",
    "method_override('int',random.sample(range(10,100),7))"
   ]
  },
  {
   "cell_type": "code",
   "execution_count": 43,
   "metadata": {},
   "outputs": [
    {
     "name": "stdout",
     "output_type": "stream",
     "text": [
      "sum of floats: 11.10 and len: 4\n"
     ]
    }
   ],
   "source": [
    "method_override('float',1.11,2.22,3.33,4.44)"
   ]
  },
  {
   "cell_type": "code",
   "execution_count": 44,
   "metadata": {},
   "outputs": [
    {
     "name": "stdout",
     "output_type": "stream",
     "text": [
      "string passed:['Python', 'is', 'awesome'] and len: 3\n"
     ]
    }
   ],
   "source": [
    "method_override('str','Python','is','awesome')"
   ]
  },
  {
   "cell_type": "code",
   "execution_count": null,
   "metadata": {},
   "outputs": [],
   "source": []
  }
 ],
 "metadata": {
  "kernelspec": {
   "display_name": "Python 3",
   "language": "python",
   "name": "python3"
  },
  "language_info": {
   "codemirror_mode": {
    "name": "ipython",
    "version": 3
   },
   "file_extension": ".py",
   "mimetype": "text/x-python",
   "name": "python",
   "nbconvert_exporter": "python",
   "pygments_lexer": "ipython3",
   "version": "3.7.6"
  }
 },
 "nbformat": 4,
 "nbformat_minor": 4
}

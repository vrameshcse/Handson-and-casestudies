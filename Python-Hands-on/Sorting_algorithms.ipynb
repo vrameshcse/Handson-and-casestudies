{
 "cells": [
  {
   "cell_type": "code",
   "execution_count": 1,
   "metadata": {},
   "outputs": [
    {
     "name": "stdout",
     "output_type": "stream",
     "text": [
      "Python 3.7.6\n"
     ]
    }
   ],
   "source": [
    "!python --version"
   ]
  },
  {
   "cell_type": "code",
   "execution_count": 2,
   "metadata": {},
   "outputs": [],
   "source": [
    "def insertionsort(array):\n",
    "    '''Insertion sort algorithm which is quicker on short arrays but time complexity increases with n'''\n",
    "\n",
    "    for i in range(1, len(array)):\n",
    "        key_item = array[i] #initialize element which will be compared against other elements for sorting\n",
    "\n",
    "        j = i - 1\n",
    "\n",
    "        while j >= 0 and array[j] > key_item:\n",
    "            array[j + 1] = array[j]\n",
    "            j -= 1\n",
    "\n",
    "        array[j + 1] = key_item\n",
    "\n",
    "    return array"
   ]
  },
  {
   "cell_type": "code",
   "execution_count": 3,
   "metadata": {},
   "outputs": [
    {
     "data": {
      "text/plain": [
       "[12, 38, 55, 77, 89, 92, 93]"
      ]
     },
     "execution_count": 3,
     "metadata": {},
     "output_type": "execute_result"
    }
   ],
   "source": [
    "import random\n",
    "insertionsort(random.sample(range(10,100),7))"
   ]
  },
  {
   "cell_type": "code",
   "execution_count": 6,
   "metadata": {},
   "outputs": [],
   "source": [
    "def bubblesort(array):\n",
    "    '''Bubble sort algorithm which compares each element with adjacent element to find the biggest element\n",
    "    and finally moves the biggest element to the last and repeats till all the elements are sorted'''\n",
    "    index=0\n",
    "    j=len(array)-1\n",
    "\n",
    "    while index <= j:\n",
    "        \n",
    "        for i in range(0,j):\n",
    "            if array[i] > array [i+1] and i < j:\n",
    "                array[i+1],array[i] = array[i],array[i+1]\n",
    "                #print(f\"end of if with index={index},j={j},i={i},array={array}\")\n",
    "\n",
    "            #print(f\"end of for with index={index},j={j},i={i},array={array}\")\n",
    "        j -= 1\n",
    "        index +=1\n",
    "        #print(f\"end of while with index={index},j={j},array={array}\")\n",
    "\n",
    "    return array"
   ]
  },
  {
   "cell_type": "code",
   "execution_count": 7,
   "metadata": {},
   "outputs": [
    {
     "data": {
      "text/plain": [
       "[18, 32, 69, 70, 74, 75, 78]"
      ]
     },
     "execution_count": 7,
     "metadata": {},
     "output_type": "execute_result"
    }
   ],
   "source": [
    "bubblesort(random.sample(range(10,100),7))"
   ]
  },
  {
   "cell_type": "code",
   "execution_count": 8,
   "metadata": {},
   "outputs": [],
   "source": [
    "def quicksort(array):\n",
    "    '''quick sort algorithm using divide and conquer technique, uses a pivot element to recursively sort\n",
    "    the array. Most common sorting algorithm with less time complexity compared to other algorithms'''\n",
    "    if len(array) < 2:\n",
    "        return array\n",
    "\n",
    "    pivot = array[random.randint(1,len(array)-1)]\n",
    "    left,right,mid = [],[],[]\n",
    "\n",
    "    for el in array:\n",
    "        #print(el,mid)\n",
    "        if el < pivot:\n",
    "            left.append(el)\n",
    "        elif el > pivot:\n",
    "            right.append(el)\n",
    "        else:\n",
    "            mid.append(el)\n",
    "\n",
    "    return quicksort(left)+mid+quicksort(right)"
   ]
  },
  {
   "cell_type": "code",
   "execution_count": 9,
   "metadata": {},
   "outputs": [
    {
     "data": {
      "text/plain": [
       "[19, 24, 39, 49, 65, 80, 97]"
      ]
     },
     "execution_count": 9,
     "metadata": {},
     "output_type": "execute_result"
    }
   ],
   "source": [
    "quicksort(random.sample(range(10,100),7))"
   ]
  },
  {
   "cell_type": "code",
   "execution_count": 15,
   "metadata": {},
   "outputs": [],
   "source": [
    "def mergesort(arr):\n",
    "    '''Merge sort algorithm uses divide and conquer technique, splits the arry into two\n",
    "    and while merging back the array sorts the array recursively'''\n",
    "    if len(arr) > 1:\n",
    "        m = len(arr) // 2\n",
    "        l = arr[:m]\n",
    "        r = arr[m:]\n",
    "        #print(\"outside loop: left{},right{}\".format(l,r))\n",
    "     \n",
    "        merge_sort(l)\n",
    "        merge_sort(r)\n",
    "        i=j=k=0\n",
    "\n",
    "        while i < len(l) and j < len(r):\n",
    "            #print(\"first while start i={},j={},k={},left={},right={},arr={}\".format(i,j,k,l,r,arr))\n",
    "\n",
    "            if l[i] < r[j]:\n",
    "                arr[k]=l[i]\n",
    "                i += 1\n",
    "            else:\n",
    "                arr[k]=r[j]\n",
    "                j += 1\n",
    "\n",
    "            k +=1\n",
    "            #print(\"first while end i={},j={},k={},left={},right={},arr={}\".format(i,j,k,l,r,arr))\n",
    "\n",
    "        while i < len(l):\n",
    "            #print(\"second while start i={},j={},k={},left={},right={},arr={}\".format(i,j,k,l,r,arr))\n",
    "            arr[k] = l[i]\n",
    "            i+= 1\n",
    "            k+= 1\n",
    "            #print(\"second while end i={},j={},k={},left={},right={},arr={}\".format(i,j,k,l,r,arr))\n",
    "\n",
    "        while j < len(r):\n",
    "            #print(\"Third while start i={},j={},k={},left={},right={},arr={}\".format(i,j,k,l,r,arr))\n",
    "            arr[k] = r[j]\n",
    "            j+= 1\n",
    "            k+= 1\n",
    "            #print(\"Third while end i={},j={},k={},left={},right={},arr={}\".format(i,j,k,l,r,arr))\n",
    "            \n",
    "    return arr        "
   ]
  },
  {
   "cell_type": "code",
   "execution_count": 16,
   "metadata": {},
   "outputs": [
    {
     "data": {
      "text/plain": [
       "[12, 16, 33, 34, 44, 89, 94]"
      ]
     },
     "execution_count": 16,
     "metadata": {},
     "output_type": "execute_result"
    }
   ],
   "source": [
    "mergesort(random.sample(range(10,100),7))"
   ]
  },
  {
   "cell_type": "code",
   "execution_count": null,
   "metadata": {},
   "outputs": [],
   "source": []
  }
 ],
 "metadata": {
  "kernelspec": {
   "display_name": "Python 3",
   "language": "python",
   "name": "python3"
  },
  "language_info": {
   "codemirror_mode": {
    "name": "ipython",
    "version": 3
   },
   "file_extension": ".py",
   "mimetype": "text/x-python",
   "name": "python",
   "nbconvert_exporter": "python",
   "pygments_lexer": "ipython3",
   "version": "3.7.6"
  }
 },
 "nbformat": 4,
 "nbformat_minor": 4
}

{
 "cells": [
  {
   "cell_type": "code",
   "execution_count": 1,
   "metadata": {},
   "outputs": [
    {
     "name": "stdout",
     "output_type": "stream",
     "text": [
      "Python 3.7.6\n"
     ]
    }
   ],
   "source": [
    "!python --version"
   ]
  },
  {
   "cell_type": "markdown",
   "metadata": {},
   "source": [
    "<h1>Elevator implementation in python"
   ]
  },
  {
   "cell_type": "markdown",
   "metadata": {},
   "source": [
    "Elevator\n",
    "Develop an elevator\n",
    "1. Basic Requirements<br>\n",
    "    an elevator that can go up and down and tracks the current floor<br>\n",
    "    edge cases<br>\n",
    "    go below ground floor<br>\n",
    "    go above top floor<br><br>\n",
    "    \n",
    "2. an elevator that has people inside selecting floors and plans the steps accordingly without moving<br>\n",
    "e.g. elevator at floor 0, 1 person inside select to stop on 3, steps should be [UP_1, UP_1, UP_1, OPEN_DOOR,\n",
    "CLOSE_DOOR]<br>\n",
    "    edge cases<br>\n",
    "    multiple people select floors in same direction out of sequence<br>\n",
    "    multiple people select floors in opposite direction<br>\n",
    "    multiple people select floors in same direction individually (optional)<br>\n",
    "    select same floor (optional)<br><br>\n",
    "\n",
    "3. Calling Elevator (optional)<br>\n",
    "an elevator that can accept calls from outside and plans the steps accordingly without moving<br>\n",
    "e.g. elevator at floor 0, 1 person outside call from 3 to go down, steps should be [UP_1, UP_1, UP_1,\n",
    "OPEN_DOOR, CLOSE_DOOR]<br>\n",
    "    edge cases<br>\n",
    "    multiple people on different floors calling to go same direction<br>\n",
    "    multiple people both calling outside and selecting stop inside to go same direction<br>\n",
    "    multiple people on different floors calling to go opposite direction (optional)<br>\n"
   ]
  },
  {
   "cell_type": "code",
   "execution_count": 2,
   "metadata": {},
   "outputs": [],
   "source": [
    "class Building:\n",
    "    def __init__(self,floors,groundfloor,topfloor,noofelevators):\n",
    "        self.floors=floors\n",
    "        self.lowerfloor=groundfloor\n",
    "        self.topfloor=topfloor\n",
    "        self.noofelevators=noofelevators\n",
    "\n",
    "    def elevator_controller(self,elevators):\n",
    "        print(self.elevators)\n",
    "        "
   ]
  },
  {
   "cell_type": "code",
   "execution_count": 3,
   "metadata": {},
   "outputs": [],
   "source": [
    "class Elevator(Building):\n",
    "    def __init__(self,maxparticipants):\n",
    "        self.maxparticipants = maxparticipants\n",
    "        super().__init__(10,0,10,1)\n",
    "        self.direction = \"f\"\n",
    "        self.cur_flr = 0\n",
    "        self.cur_count = 0\n",
    "        self.current_customers=[]\n",
    "        self.target_up=[]\n",
    "        self.target_down=[]\n",
    "\n",
    "    def add_customer(self,customer):\n",
    "        #print(self.lowerfloor)\n",
    "        if customer.target_flr < self.lowerfloor or customer.target_flr > self.topfloor:\n",
    "            raise ValueError(\"Invalid floor selected\")\n",
    "        if customer.get_status() in ['intransit','completed']:\n",
    "            raise ValueError(\"Invalid customer\")\n",
    "        self.current_customers.append(customer)\n",
    "        #customer.update_status(\"intransit\")       \n",
    "  \n",
    "\n",
    "    def del_customer(self,customer):\n",
    "        print(customer.status)\n",
    "        if customer.get_status() in ['intransit','waiting']:\n",
    "            raise ValueError(\"customer cannot be deleted\")\n",
    "        self.current_customers.remove(customer)\n",
    "  \n",
    "\n",
    "    def plan_operation(self):\n",
    "        if any([i.target_flr > self.topfloor for i in self.current_customers]):\n",
    "            raise ValueError(\"Incorrect destination floor\")\n",
    "\n",
    "        target_list = sorted([i.target_flr for i in self.current_customers])\n",
    "        #print(f\"target_list={target_list}\")\n",
    "        lift_plan=[]\n",
    "\n",
    "        for i in target_list:\n",
    "            j=self.cur_flr\n",
    "            #print(f\"outside while j={j},i={i}\")\n",
    "            while j < i:\n",
    "                #print(f\"inside while j={j},i={i}\")\n",
    "                lift_plan.append('UP_1')\n",
    "                j += 1\n",
    "                if j==i:\n",
    "                    lift_plan.extend(['open_door','close_door'])\n",
    "\n",
    "\n",
    "            #print(f\"end while j={j},i={i},liftplan={lift_plan}\")   \n",
    "            self.cur_flr = i\n",
    "            self.direction = \"f\"\n",
    "\n",
    "        return lift_plan\n",
    "\n",
    "\n",
    "    def call_elevator(self):\n",
    "        lift_plan=[]\n",
    "        #self.cur_flr=6 # for testing purpose\n",
    "        source_flr = sorted([i.current_flr for i in self.current_customers])\n",
    "        print(f\"sorted_floor={source_flr}\")\n",
    "        print(f\"current_floor={self.cur_flr},direction={self.direction}\")\n",
    "        if any([self.cur_flr == x for x in source_flr]):\n",
    "            source_flr.remove(self.cur_flr)\n",
    "\n",
    "        if len(source_flr) > 0 and (self.direction == \"f\") and any([self.cur_flr < x for x in source_flr]):\n",
    "            up_src = list(filter(lambda x:x > self.cur_flr,source_flr))\n",
    "            #print(f\"up_src={up_src}\")\n",
    "            #start=self.cur_flr\n",
    "            for i in up_src:\n",
    "                j=self.cur_flr\n",
    "                #print(f\"1 outside while j={j},i={i}\")\n",
    "                while j < i:\n",
    "                    #print(f\"1 inside while j={j},i={i}\")\n",
    "                    lift_plan.append('UP_1')\n",
    "                    j += 1\n",
    "                    if j==i:\n",
    "                        lift_plan.extend(['open_door','close_door'])\n",
    "\n",
    "                    #print(f\"1 end while j={j},i={i},liftplan={lift_plan}\")\n",
    "\n",
    "                source_flr.remove(i)\n",
    "                self.cur_flr = i\n",
    "\n",
    "        if len(source_flr) > 0 and any([self.cur_flr > x for x in source_flr]):\n",
    "            down_src = list(filter(lambda x:x < self.cur_flr,source_flr))\n",
    "            #print(f\"down_src={down_src}\")\n",
    "            for i in sorted(down_src,reverse=True):\n",
    "                j=self.cur_flr\n",
    "                #print(f\"2 outside while j={j},i={i}\")\n",
    "                while j > i:\n",
    "                    #print(f\"2 inside while j={j},i={i}\")\n",
    "                    lift_plan.append('DOWN_1')\n",
    "                    j -= 1\n",
    "                    if j==i:\n",
    "                        lift_plan.extend(['open_door','close_door'])\n",
    "\n",
    "                    #print(f\"2 end while j={j},i={i},liftplan={lift_plan}\")\n",
    "                source_flr.remove(i)\n",
    "                self.cur_flr = i\n",
    "\n",
    "        if self.cur_flr == self.lowerfloor:\n",
    "            self.direction = \"f\"\n",
    "        elif self.cur_flr == self.topfloor:\n",
    "            self.direction = \"b\"\n",
    "\n",
    "\n",
    "        return lift_plan         \n",
    "\n",
    "    def move_up(self):\n",
    "        pass\n",
    "\n",
    "    def move_down(self):\n",
    "        pass  \n",
    "\n",
    "    def current_customer_list(self):\n",
    "        print(f\"current_customers= {self.current_customers}\")"
   ]
  },
  {
   "cell_type": "code",
   "execution_count": 4,
   "metadata": {},
   "outputs": [],
   "source": [
    "class Customer:\n",
    "    def __init__(self,current_flr,target_flr):\n",
    "        self.current_flr = current_flr\n",
    "        self.target_flr = target_flr\n",
    "        if self.current_flr < 0 or self.target_flr < 0 or self.current_flr == self.target_flr:\n",
    "            raise ValueError(\"Incorrect floor\")\n",
    "        self.status = 'waiting' # one of the 'waiting,intransit,completed'\n",
    "\n",
    "    def update_status(self,status):\n",
    "        self.status=status\n",
    "\n",
    "    def get_status(self):\n",
    "        return self.status\n",
    "    \n",
    "    def __repr__(self):\n",
    "        return 'Customer('+str(self.current_flr)+','+str(self.target_flr)+')'\n"
   ]
  },
  {
   "cell_type": "code",
   "execution_count": 5,
   "metadata": {},
   "outputs": [],
   "source": [
    "c1 = Customer(0,5)"
   ]
  },
  {
   "cell_type": "code",
   "execution_count": 6,
   "metadata": {},
   "outputs": [],
   "source": [
    "c2 = Customer(0,8)"
   ]
  },
  {
   "cell_type": "code",
   "execution_count": 7,
   "metadata": {},
   "outputs": [],
   "source": [
    "e = Elevator(5)"
   ]
  },
  {
   "cell_type": "code",
   "execution_count": 8,
   "metadata": {},
   "outputs": [],
   "source": [
    "e.add_customer(c1)"
   ]
  },
  {
   "cell_type": "code",
   "execution_count": 9,
   "metadata": {},
   "outputs": [],
   "source": [
    "e.add_customer(c2)"
   ]
  },
  {
   "cell_type": "code",
   "execution_count": 10,
   "metadata": {},
   "outputs": [
    {
     "data": {
      "text/plain": [
       "['UP_1',\n",
       " 'UP_1',\n",
       " 'UP_1',\n",
       " 'UP_1',\n",
       " 'UP_1',\n",
       " 'open_door',\n",
       " 'close_door',\n",
       " 'UP_1',\n",
       " 'UP_1',\n",
       " 'UP_1',\n",
       " 'open_door',\n",
       " 'close_door']"
      ]
     },
     "execution_count": 10,
     "metadata": {},
     "output_type": "execute_result"
    }
   ],
   "source": [
    "e.plan_operation()"
   ]
  },
  {
   "cell_type": "code",
   "execution_count": 11,
   "metadata": {},
   "outputs": [],
   "source": [
    "c1.update_status(\"completed\")"
   ]
  },
  {
   "cell_type": "code",
   "execution_count": 12,
   "metadata": {},
   "outputs": [],
   "source": [
    "c2.update_status(\"completed\")"
   ]
  },
  {
   "cell_type": "code",
   "execution_count": 13,
   "metadata": {},
   "outputs": [
    {
     "name": "stdout",
     "output_type": "stream",
     "text": [
      "completed\n"
     ]
    }
   ],
   "source": [
    "e.del_customer(c1)"
   ]
  },
  {
   "cell_type": "code",
   "execution_count": 14,
   "metadata": {},
   "outputs": [
    {
     "name": "stdout",
     "output_type": "stream",
     "text": [
      "completed\n"
     ]
    }
   ],
   "source": [
    "e.del_customer(c2)"
   ]
  },
  {
   "cell_type": "code",
   "execution_count": 15,
   "metadata": {},
   "outputs": [
    {
     "name": "stdout",
     "output_type": "stream",
     "text": [
      "current_customers= []\n"
     ]
    }
   ],
   "source": [
    "e.current_customer_list()"
   ]
  },
  {
   "cell_type": "code",
   "execution_count": 16,
   "metadata": {},
   "outputs": [],
   "source": [
    "c1 = Customer(9,2)\n",
    "c2 = Customer(4,1)"
   ]
  },
  {
   "cell_type": "code",
   "execution_count": 17,
   "metadata": {},
   "outputs": [],
   "source": [
    "e.add_customer(c1)\n",
    "e.add_customer(c2)"
   ]
  },
  {
   "cell_type": "code",
   "execution_count": 18,
   "metadata": {},
   "outputs": [
    {
     "data": {
      "text/plain": [
       "8"
      ]
     },
     "execution_count": 18,
     "metadata": {},
     "output_type": "execute_result"
    }
   ],
   "source": [
    "e.cur_flr"
   ]
  },
  {
   "cell_type": "code",
   "execution_count": 19,
   "metadata": {},
   "outputs": [
    {
     "name": "stdout",
     "output_type": "stream",
     "text": [
      "current_customers= [Customer(9,2), Customer(4,1)]\n"
     ]
    }
   ],
   "source": [
    "e.current_customer_list()"
   ]
  },
  {
   "cell_type": "code",
   "execution_count": 20,
   "metadata": {},
   "outputs": [
    {
     "name": "stdout",
     "output_type": "stream",
     "text": [
      "sorted_floor=[4, 9]\n",
      "current_floor=8,direction=f\n"
     ]
    },
    {
     "data": {
      "text/plain": [
       "['UP_1',\n",
       " 'open_door',\n",
       " 'close_door',\n",
       " 'DOWN_1',\n",
       " 'DOWN_1',\n",
       " 'DOWN_1',\n",
       " 'DOWN_1',\n",
       " 'DOWN_1',\n",
       " 'open_door',\n",
       " 'close_door']"
      ]
     },
     "execution_count": 20,
     "metadata": {},
     "output_type": "execute_result"
    }
   ],
   "source": [
    "e.call_elevator()"
   ]
  },
  {
   "cell_type": "code",
   "execution_count": null,
   "metadata": {},
   "outputs": [],
   "source": []
  }
 ],
 "metadata": {
  "kernelspec": {
   "display_name": "Python 3",
   "language": "python",
   "name": "python3"
  },
  "language_info": {
   "codemirror_mode": {
    "name": "ipython",
    "version": 3
   },
   "file_extension": ".py",
   "mimetype": "text/x-python",
   "name": "python",
   "nbconvert_exporter": "python",
   "pygments_lexer": "ipython3",
   "version": "3.7.6"
  }
 },
 "nbformat": 4,
 "nbformat_minor": 4
}

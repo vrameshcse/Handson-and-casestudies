{
 "cells": [
  {
   "cell_type": "markdown",
   "metadata": {
    "collapsed": true
   },
   "source": [
    "<h1>Lead Conversion Analysis</h1>\n",
    "Business understanding:\n",
    "Digital arms of banks today face challenges with lead conversion, they source leads through mediums like search, display, email campaigns and via affiliate partners.Bank faces same challenge of low conversion ratio. They have given a problem to identify the customers segments having higher conversion ratio for a specific loan product so that they can specifically target these customers, here they have provided a partial data set for salaried customers only from the last 3 months. They also capture basic details about customers like gender, DOB, existing EMI, employer Name, Loan Amount Required, Monthly Income, City, Interaction data and many others. "
   ]
  },
  {
   "cell_type": "code",
   "execution_count": 1,
   "metadata": {},
   "outputs": [],
   "source": [
    "import pandas as pd\n",
    "import numpy as np\n",
    "import sklearn \n",
    "import numpy as np # linear algebra\n",
    "import pandas as pd # data processing, CSV file I/O (e.g. pd.read_csv)\n",
    "import os\n",
    "import gc \n",
    "import matplotlib.pyplot as plt\n",
    "import seaborn as sns\n",
    "%matplotlib inline\n",
    "import matplotlib\n"
   ]
  },
  {
   "cell_type": "code",
   "execution_count": 2,
   "metadata": {},
   "outputs": [],
   "source": [
    "# Hypothesis 1: Higher salary person will not be intrested in getting loan\n",
    "# Hypothesis 2: If applied loan amount is high then chances of getting this loan is very rare\n",
    "# Hypothesis 3: Metro cities people may want more frequent loan as compare to other area\n",
    "# Hypothesis 4: If a person already has taken the loan they won't take more loan\n",
    "# Hypothesis 5: If interest rate is high people will not be intrested\n",
    "# Hypothesis 6: If there are many steps in the process distributing loan people won't be intrested "
   ]
  },
  {
   "cell_type": "code",
   "execution_count": 3,
   "metadata": {},
   "outputs": [],
   "source": [
    "# read the data \n",
    "train  = pd.read_csv(\"train.csv\",encoding='latin_1')\n",
    "test  = pd.read_csv(\"test.csv\",encoding='latin_1')"
   ]
  },
  {
   "cell_type": "code",
   "execution_count": 4,
   "metadata": {},
   "outputs": [
    {
     "data": {
      "text/plain": [
       "Index(['ID', 'Gender', 'City', 'Monthly_Income', 'DOB', 'Lead_Creation_Date',\n",
       "       'Loan_Amount_Applied', 'Loan_Tenure_Applied', 'Existing_EMI',\n",
       "       'Employer_Name', 'Salary_Account', 'Mobile_Verified', 'Var5', 'Var1',\n",
       "       'Loan_Amount_Submitted', 'Loan_Tenure_Submitted', 'Interest_Rate',\n",
       "       'Processing_Fee', 'EMI_Loan_Submitted', 'Filled_Form', 'Device_Type',\n",
       "       'Var2', 'Source', 'Var4', 'LoggedIn', 'Disbursed'],\n",
       "      dtype='object')"
      ]
     },
     "execution_count": 4,
     "metadata": {},
     "output_type": "execute_result"
    }
   ],
   "source": [
    "# columns in train\n",
    "train.columns"
   ]
  },
  {
   "cell_type": "code",
   "execution_count": 5,
   "metadata": {},
   "outputs": [
    {
     "data": {
      "text/plain": [
       "Index(['ID', 'Gender', 'City', 'Monthly_Income', 'DOB', 'Lead_Creation_Date',\n",
       "       'Loan_Amount_Applied', 'Loan_Tenure_Applied', 'Existing_EMI',\n",
       "       'Employer_Name', 'Salary_Account', 'Mobile_Verified', 'Var5', 'Var1',\n",
       "       'Loan_Amount_Submitted', 'Loan_Tenure_Submitted', 'Interest_Rate',\n",
       "       'Processing_Fee', 'EMI_Loan_Submitted', 'Filled_Form', 'Device_Type',\n",
       "       'Var2', 'Source', 'Var4'],\n",
       "      dtype='object')"
      ]
     },
     "execution_count": 5,
     "metadata": {},
     "output_type": "execute_result"
    }
   ],
   "source": [
    "# columns in test\n",
    "test.columns"
   ]
  },
  {
   "cell_type": "code",
   "execution_count": 6,
   "metadata": {},
   "outputs": [
    {
     "data": {
      "text/plain": [
       "['LoggedIn', 'Disbursed']"
      ]
     },
     "execution_count": 6,
     "metadata": {},
     "output_type": "execute_result"
    }
   ],
   "source": [
    "#see the columns are present in test and not in train\n",
    "[i for i in train.columns if i not in test.columns]"
   ]
  },
  {
   "cell_type": "code",
   "execution_count": 7,
   "metadata": {},
   "outputs": [
    {
     "data": {
      "text/html": [
       "<div>\n",
       "<style scoped>\n",
       "    .dataframe tbody tr th:only-of-type {\n",
       "        vertical-align: middle;\n",
       "    }\n",
       "\n",
       "    .dataframe tbody tr th {\n",
       "        vertical-align: top;\n",
       "    }\n",
       "\n",
       "    .dataframe thead th {\n",
       "        text-align: right;\n",
       "    }\n",
       "</style>\n",
       "<table border=\"1\" class=\"dataframe\">\n",
       "  <thead>\n",
       "    <tr style=\"text-align: right;\">\n",
       "      <th></th>\n",
       "      <th>ID</th>\n",
       "      <th>Gender</th>\n",
       "      <th>City</th>\n",
       "      <th>Monthly_Income</th>\n",
       "      <th>DOB</th>\n",
       "      <th>Lead_Creation_Date</th>\n",
       "      <th>Loan_Amount_Applied</th>\n",
       "      <th>Loan_Tenure_Applied</th>\n",
       "      <th>Existing_EMI</th>\n",
       "      <th>Employer_Name</th>\n",
       "      <th>...</th>\n",
       "      <th>Interest_Rate</th>\n",
       "      <th>Processing_Fee</th>\n",
       "      <th>EMI_Loan_Submitted</th>\n",
       "      <th>Filled_Form</th>\n",
       "      <th>Device_Type</th>\n",
       "      <th>Var2</th>\n",
       "      <th>Source</th>\n",
       "      <th>Var4</th>\n",
       "      <th>LoggedIn</th>\n",
       "      <th>Disbursed</th>\n",
       "    </tr>\n",
       "  </thead>\n",
       "  <tbody>\n",
       "    <tr>\n",
       "      <th>0</th>\n",
       "      <td>ID000002C20</td>\n",
       "      <td>Female</td>\n",
       "      <td>Delhi</td>\n",
       "      <td>20000</td>\n",
       "      <td>23-May-78</td>\n",
       "      <td>15-May-15</td>\n",
       "      <td>300000.0</td>\n",
       "      <td>5.0</td>\n",
       "      <td>0.0</td>\n",
       "      <td>CYBOSOL</td>\n",
       "      <td>...</td>\n",
       "      <td>NaN</td>\n",
       "      <td>NaN</td>\n",
       "      <td>NaN</td>\n",
       "      <td>N</td>\n",
       "      <td>Web-browser</td>\n",
       "      <td>G</td>\n",
       "      <td>S122</td>\n",
       "      <td>1</td>\n",
       "      <td>0</td>\n",
       "      <td>0</td>\n",
       "    </tr>\n",
       "    <tr>\n",
       "      <th>1</th>\n",
       "      <td>ID000004E40</td>\n",
       "      <td>Male</td>\n",
       "      <td>Mumbai</td>\n",
       "      <td>35000</td>\n",
       "      <td>07-Oct-85</td>\n",
       "      <td>04-May-15</td>\n",
       "      <td>200000.0</td>\n",
       "      <td>2.0</td>\n",
       "      <td>0.0</td>\n",
       "      <td>TATA CONSULTANCY SERVICES LTD (TCS)</td>\n",
       "      <td>...</td>\n",
       "      <td>13.25</td>\n",
       "      <td>NaN</td>\n",
       "      <td>6762.9</td>\n",
       "      <td>N</td>\n",
       "      <td>Web-browser</td>\n",
       "      <td>G</td>\n",
       "      <td>S122</td>\n",
       "      <td>3</td>\n",
       "      <td>0</td>\n",
       "      <td>0</td>\n",
       "    </tr>\n",
       "    <tr>\n",
       "      <th>2</th>\n",
       "      <td>ID000007H20</td>\n",
       "      <td>Male</td>\n",
       "      <td>Panchkula</td>\n",
       "      <td>22500</td>\n",
       "      <td>10-Oct-81</td>\n",
       "      <td>19-May-15</td>\n",
       "      <td>600000.0</td>\n",
       "      <td>4.0</td>\n",
       "      <td>0.0</td>\n",
       "      <td>ALCHEMIST HOSPITALS LTD</td>\n",
       "      <td>...</td>\n",
       "      <td>NaN</td>\n",
       "      <td>NaN</td>\n",
       "      <td>NaN</td>\n",
       "      <td>N</td>\n",
       "      <td>Web-browser</td>\n",
       "      <td>B</td>\n",
       "      <td>S143</td>\n",
       "      <td>1</td>\n",
       "      <td>0</td>\n",
       "      <td>0</td>\n",
       "    </tr>\n",
       "    <tr>\n",
       "      <th>3</th>\n",
       "      <td>ID000008I30</td>\n",
       "      <td>Male</td>\n",
       "      <td>Saharsa</td>\n",
       "      <td>35000</td>\n",
       "      <td>30-Nov-87</td>\n",
       "      <td>09-May-15</td>\n",
       "      <td>1000000.0</td>\n",
       "      <td>5.0</td>\n",
       "      <td>0.0</td>\n",
       "      <td>BIHAR GOVERNMENT</td>\n",
       "      <td>...</td>\n",
       "      <td>NaN</td>\n",
       "      <td>NaN</td>\n",
       "      <td>NaN</td>\n",
       "      <td>N</td>\n",
       "      <td>Web-browser</td>\n",
       "      <td>B</td>\n",
       "      <td>S143</td>\n",
       "      <td>3</td>\n",
       "      <td>0</td>\n",
       "      <td>0</td>\n",
       "    </tr>\n",
       "    <tr>\n",
       "      <th>4</th>\n",
       "      <td>ID000009J40</td>\n",
       "      <td>Male</td>\n",
       "      <td>Bengaluru</td>\n",
       "      <td>100000</td>\n",
       "      <td>17-Feb-84</td>\n",
       "      <td>20-May-15</td>\n",
       "      <td>500000.0</td>\n",
       "      <td>2.0</td>\n",
       "      <td>25000.0</td>\n",
       "      <td>GLOBAL EDGE SOFTWARE</td>\n",
       "      <td>...</td>\n",
       "      <td>NaN</td>\n",
       "      <td>NaN</td>\n",
       "      <td>NaN</td>\n",
       "      <td>N</td>\n",
       "      <td>Web-browser</td>\n",
       "      <td>B</td>\n",
       "      <td>S134</td>\n",
       "      <td>3</td>\n",
       "      <td>1</td>\n",
       "      <td>0</td>\n",
       "    </tr>\n",
       "  </tbody>\n",
       "</table>\n",
       "<p>5 rows × 26 columns</p>\n",
       "</div>"
      ],
      "text/plain": [
       "            ID  Gender       City  Monthly_Income        DOB  \\\n",
       "0  ID000002C20  Female      Delhi           20000  23-May-78   \n",
       "1  ID000004E40    Male     Mumbai           35000  07-Oct-85   \n",
       "2  ID000007H20    Male  Panchkula           22500  10-Oct-81   \n",
       "3  ID000008I30    Male    Saharsa           35000  30-Nov-87   \n",
       "4  ID000009J40    Male  Bengaluru          100000  17-Feb-84   \n",
       "\n",
       "  Lead_Creation_Date  Loan_Amount_Applied  Loan_Tenure_Applied  Existing_EMI  \\\n",
       "0          15-May-15             300000.0                  5.0           0.0   \n",
       "1          04-May-15             200000.0                  2.0           0.0   \n",
       "2          19-May-15             600000.0                  4.0           0.0   \n",
       "3          09-May-15            1000000.0                  5.0           0.0   \n",
       "4          20-May-15             500000.0                  2.0       25000.0   \n",
       "\n",
       "                         Employer_Name  ... Interest_Rate Processing_Fee  \\\n",
       "0                              CYBOSOL  ...           NaN            NaN   \n",
       "1  TATA CONSULTANCY SERVICES LTD (TCS)  ...         13.25            NaN   \n",
       "2              ALCHEMIST HOSPITALS LTD  ...           NaN            NaN   \n",
       "3                     BIHAR GOVERNMENT  ...           NaN            NaN   \n",
       "4                 GLOBAL EDGE SOFTWARE  ...           NaN            NaN   \n",
       "\n",
       "   EMI_Loan_Submitted Filled_Form  Device_Type  Var2  Source  Var4  LoggedIn  \\\n",
       "0                 NaN           N  Web-browser     G    S122     1         0   \n",
       "1              6762.9           N  Web-browser     G    S122     3         0   \n",
       "2                 NaN           N  Web-browser     B    S143     1         0   \n",
       "3                 NaN           N  Web-browser     B    S143     3         0   \n",
       "4                 NaN           N  Web-browser     B    S134     3         1   \n",
       "\n",
       "  Disbursed  \n",
       "0         0  \n",
       "1         0  \n",
       "2         0  \n",
       "3         0  \n",
       "4         0  \n",
       "\n",
       "[5 rows x 26 columns]"
      ]
     },
     "execution_count": 7,
     "metadata": {},
     "output_type": "execute_result"
    }
   ],
   "source": [
    "# first 5 observations in train \n",
    "train.head(5)"
   ]
  },
  {
   "cell_type": "code",
   "execution_count": 8,
   "metadata": {},
   "outputs": [
    {
     "data": {
      "text/plain": [
       "((87020, 26), (37717, 24))"
      ]
     },
     "execution_count": 8,
     "metadata": {},
     "output_type": "execute_result"
    }
   ],
   "source": [
    "# to see the shape of dataframe( number of rows, columns)\n",
    "train.shape,test.shape"
   ]
  },
  {
   "cell_type": "code",
   "execution_count": 9,
   "metadata": {},
   "outputs": [
    {
     "data": {
      "text/plain": [
       "ID                        object\n",
       "Gender                    object\n",
       "City                      object\n",
       "Monthly_Income             int64\n",
       "DOB                       object\n",
       "Lead_Creation_Date        object\n",
       "Loan_Amount_Applied      float64\n",
       "Loan_Tenure_Applied      float64\n",
       "Existing_EMI             float64\n",
       "Employer_Name             object\n",
       "Salary_Account            object\n",
       "Mobile_Verified           object\n",
       "Var5                       int64\n",
       "Var1                      object\n",
       "Loan_Amount_Submitted    float64\n",
       "Loan_Tenure_Submitted    float64\n",
       "Interest_Rate            float64\n",
       "Processing_Fee           float64\n",
       "EMI_Loan_Submitted       float64\n",
       "Filled_Form               object\n",
       "Device_Type               object\n",
       "Var2                      object\n",
       "Source                    object\n",
       "Var4                       int64\n",
       "LoggedIn                   int64\n",
       "Disbursed                  int64\n",
       "dtype: object"
      ]
     },
     "execution_count": 9,
     "metadata": {},
     "output_type": "execute_result"
    }
   ],
   "source": [
    "# See the data type of all features\n",
    "train.dtypes"
   ]
  },
  {
   "cell_type": "code",
   "execution_count": 10,
   "metadata": {},
   "outputs": [
    {
     "data": {
      "text/html": [
       "<div>\n",
       "<style scoped>\n",
       "    .dataframe tbody tr th:only-of-type {\n",
       "        vertical-align: middle;\n",
       "    }\n",
       "\n",
       "    .dataframe tbody tr th {\n",
       "        vertical-align: top;\n",
       "    }\n",
       "\n",
       "    .dataframe thead th {\n",
       "        text-align: right;\n",
       "    }\n",
       "</style>\n",
       "<table border=\"1\" class=\"dataframe\">\n",
       "  <thead>\n",
       "    <tr style=\"text-align: right;\">\n",
       "      <th></th>\n",
       "      <th>Monthly_Income</th>\n",
       "      <th>Loan_Amount_Applied</th>\n",
       "      <th>Loan_Tenure_Applied</th>\n",
       "      <th>Existing_EMI</th>\n",
       "      <th>Var5</th>\n",
       "      <th>Loan_Amount_Submitted</th>\n",
       "      <th>Loan_Tenure_Submitted</th>\n",
       "      <th>Interest_Rate</th>\n",
       "      <th>Processing_Fee</th>\n",
       "      <th>EMI_Loan_Submitted</th>\n",
       "      <th>Var4</th>\n",
       "      <th>LoggedIn</th>\n",
       "      <th>Disbursed</th>\n",
       "    </tr>\n",
       "  </thead>\n",
       "  <tbody>\n",
       "    <tr>\n",
       "      <th>count</th>\n",
       "      <td>8.702000e+04</td>\n",
       "      <td>8.694900e+04</td>\n",
       "      <td>86949.000000</td>\n",
       "      <td>8.694900e+04</td>\n",
       "      <td>87020.000000</td>\n",
       "      <td>5.240700e+04</td>\n",
       "      <td>52407.000000</td>\n",
       "      <td>27726.000000</td>\n",
       "      <td>27420.000000</td>\n",
       "      <td>27726.000000</td>\n",
       "      <td>87020.000000</td>\n",
       "      <td>87020.000000</td>\n",
       "      <td>87020.000000</td>\n",
       "    </tr>\n",
       "    <tr>\n",
       "      <th>mean</th>\n",
       "      <td>5.884997e+04</td>\n",
       "      <td>2.302507e+05</td>\n",
       "      <td>2.131399</td>\n",
       "      <td>3.696228e+03</td>\n",
       "      <td>4.961503</td>\n",
       "      <td>3.950106e+05</td>\n",
       "      <td>3.891369</td>\n",
       "      <td>19.197474</td>\n",
       "      <td>5131.150839</td>\n",
       "      <td>10999.528377</td>\n",
       "      <td>2.949805</td>\n",
       "      <td>0.029350</td>\n",
       "      <td>0.014629</td>\n",
       "    </tr>\n",
       "    <tr>\n",
       "      <th>std</th>\n",
       "      <td>2.177511e+06</td>\n",
       "      <td>3.542068e+05</td>\n",
       "      <td>2.014193</td>\n",
       "      <td>3.981021e+04</td>\n",
       "      <td>5.670385</td>\n",
       "      <td>3.082481e+05</td>\n",
       "      <td>1.165359</td>\n",
       "      <td>5.834213</td>\n",
       "      <td>4725.837644</td>\n",
       "      <td>7512.323050</td>\n",
       "      <td>1.697720</td>\n",
       "      <td>0.168785</td>\n",
       "      <td>0.120062</td>\n",
       "    </tr>\n",
       "    <tr>\n",
       "      <th>min</th>\n",
       "      <td>0.000000e+00</td>\n",
       "      <td>0.000000e+00</td>\n",
       "      <td>0.000000</td>\n",
       "      <td>0.000000e+00</td>\n",
       "      <td>0.000000</td>\n",
       "      <td>5.000000e+04</td>\n",
       "      <td>1.000000</td>\n",
       "      <td>11.990000</td>\n",
       "      <td>200.000000</td>\n",
       "      <td>1176.410000</td>\n",
       "      <td>0.000000</td>\n",
       "      <td>0.000000</td>\n",
       "      <td>0.000000</td>\n",
       "    </tr>\n",
       "    <tr>\n",
       "      <th>25%</th>\n",
       "      <td>1.650000e+04</td>\n",
       "      <td>0.000000e+00</td>\n",
       "      <td>0.000000</td>\n",
       "      <td>0.000000e+00</td>\n",
       "      <td>0.000000</td>\n",
       "      <td>2.000000e+05</td>\n",
       "      <td>3.000000</td>\n",
       "      <td>15.250000</td>\n",
       "      <td>2000.000000</td>\n",
       "      <td>6491.600000</td>\n",
       "      <td>1.000000</td>\n",
       "      <td>0.000000</td>\n",
       "      <td>0.000000</td>\n",
       "    </tr>\n",
       "    <tr>\n",
       "      <th>50%</th>\n",
       "      <td>2.500000e+04</td>\n",
       "      <td>1.000000e+05</td>\n",
       "      <td>2.000000</td>\n",
       "      <td>0.000000e+00</td>\n",
       "      <td>2.000000</td>\n",
       "      <td>3.000000e+05</td>\n",
       "      <td>4.000000</td>\n",
       "      <td>18.000000</td>\n",
       "      <td>4000.000000</td>\n",
       "      <td>9392.970000</td>\n",
       "      <td>3.000000</td>\n",
       "      <td>0.000000</td>\n",
       "      <td>0.000000</td>\n",
       "    </tr>\n",
       "    <tr>\n",
       "      <th>75%</th>\n",
       "      <td>4.000000e+04</td>\n",
       "      <td>3.000000e+05</td>\n",
       "      <td>4.000000</td>\n",
       "      <td>3.500000e+03</td>\n",
       "      <td>11.000000</td>\n",
       "      <td>5.000000e+05</td>\n",
       "      <td>5.000000</td>\n",
       "      <td>20.000000</td>\n",
       "      <td>6250.000000</td>\n",
       "      <td>12919.040000</td>\n",
       "      <td>5.000000</td>\n",
       "      <td>0.000000</td>\n",
       "      <td>0.000000</td>\n",
       "    </tr>\n",
       "    <tr>\n",
       "      <th>max</th>\n",
       "      <td>4.445544e+08</td>\n",
       "      <td>1.000000e+07</td>\n",
       "      <td>10.000000</td>\n",
       "      <td>1.000000e+07</td>\n",
       "      <td>18.000000</td>\n",
       "      <td>3.000000e+06</td>\n",
       "      <td>6.000000</td>\n",
       "      <td>37.000000</td>\n",
       "      <td>50000.000000</td>\n",
       "      <td>144748.280000</td>\n",
       "      <td>7.000000</td>\n",
       "      <td>1.000000</td>\n",
       "      <td>1.000000</td>\n",
       "    </tr>\n",
       "  </tbody>\n",
       "</table>\n",
       "</div>"
      ],
      "text/plain": [
       "       Monthly_Income  Loan_Amount_Applied  Loan_Tenure_Applied  Existing_EMI  \\\n",
       "count    8.702000e+04         8.694900e+04         86949.000000  8.694900e+04   \n",
       "mean     5.884997e+04         2.302507e+05             2.131399  3.696228e+03   \n",
       "std      2.177511e+06         3.542068e+05             2.014193  3.981021e+04   \n",
       "min      0.000000e+00         0.000000e+00             0.000000  0.000000e+00   \n",
       "25%      1.650000e+04         0.000000e+00             0.000000  0.000000e+00   \n",
       "50%      2.500000e+04         1.000000e+05             2.000000  0.000000e+00   \n",
       "75%      4.000000e+04         3.000000e+05             4.000000  3.500000e+03   \n",
       "max      4.445544e+08         1.000000e+07            10.000000  1.000000e+07   \n",
       "\n",
       "               Var5  Loan_Amount_Submitted  Loan_Tenure_Submitted  \\\n",
       "count  87020.000000           5.240700e+04           52407.000000   \n",
       "mean       4.961503           3.950106e+05               3.891369   \n",
       "std        5.670385           3.082481e+05               1.165359   \n",
       "min        0.000000           5.000000e+04               1.000000   \n",
       "25%        0.000000           2.000000e+05               3.000000   \n",
       "50%        2.000000           3.000000e+05               4.000000   \n",
       "75%       11.000000           5.000000e+05               5.000000   \n",
       "max       18.000000           3.000000e+06               6.000000   \n",
       "\n",
       "       Interest_Rate  Processing_Fee  EMI_Loan_Submitted          Var4  \\\n",
       "count   27726.000000    27420.000000        27726.000000  87020.000000   \n",
       "mean       19.197474     5131.150839        10999.528377      2.949805   \n",
       "std         5.834213     4725.837644         7512.323050      1.697720   \n",
       "min        11.990000      200.000000         1176.410000      0.000000   \n",
       "25%        15.250000     2000.000000         6491.600000      1.000000   \n",
       "50%        18.000000     4000.000000         9392.970000      3.000000   \n",
       "75%        20.000000     6250.000000        12919.040000      5.000000   \n",
       "max        37.000000    50000.000000       144748.280000      7.000000   \n",
       "\n",
       "           LoggedIn     Disbursed  \n",
       "count  87020.000000  87020.000000  \n",
       "mean       0.029350      0.014629  \n",
       "std        0.168785      0.120062  \n",
       "min        0.000000      0.000000  \n",
       "25%        0.000000      0.000000  \n",
       "50%        0.000000      0.000000  \n",
       "75%        0.000000      0.000000  \n",
       "max        1.000000      1.000000  "
      ]
     },
     "execution_count": 10,
     "metadata": {},
     "output_type": "execute_result"
    }
   ],
   "source": [
    "# For summary of numerical variables in train\n",
    "train.describe()"
   ]
  },
  {
   "cell_type": "code",
   "execution_count": 11,
   "metadata": {},
   "outputs": [
    {
     "data": {
      "text/plain": [
       "ID                           0\n",
       "Gender                       0\n",
       "City                      1003\n",
       "Monthly_Income               0\n",
       "DOB                          0\n",
       "Lead_Creation_Date           0\n",
       "Loan_Amount_Applied         71\n",
       "Loan_Tenure_Applied         71\n",
       "Existing_EMI                71\n",
       "Employer_Name               71\n",
       "Salary_Account           11764\n",
       "Mobile_Verified              0\n",
       "Var5                         0\n",
       "Var1                         0\n",
       "Loan_Amount_Submitted    34613\n",
       "Loan_Tenure_Submitted    34613\n",
       "Interest_Rate            59294\n",
       "Processing_Fee           59600\n",
       "EMI_Loan_Submitted       59294\n",
       "Filled_Form                  0\n",
       "Device_Type                  0\n",
       "Var2                         0\n",
       "Source                       0\n",
       "Var4                         0\n",
       "LoggedIn                     0\n",
       "Disbursed                    0\n",
       "dtype: int64"
      ]
     },
     "execution_count": 11,
     "metadata": {},
     "output_type": "execute_result"
    }
   ],
   "source": [
    "# Number of null values\n",
    "train.isnull().sum()"
   ]
  },
  {
   "cell_type": "code",
   "execution_count": 12,
   "metadata": {},
   "outputs": [
    {
     "name": "stdout",
     "output_type": "stream",
     "text": [
      "\n",
      "feature_name- ID : total_category- 87020\n",
      "\n",
      "feature_name- Gender : total_category- 2\n",
      "\n",
      "feature_name- City : total_category- 698\n",
      "\n",
      "feature_name- DOB : total_category- 11345\n",
      "\n",
      "feature_name- Lead_Creation_Date : total_category- 92\n",
      "\n",
      "feature_name- Employer_Name : total_category- 43568\n",
      "\n",
      "feature_name- Salary_Account : total_category- 58\n",
      "\n",
      "feature_name- Mobile_Verified : total_category- 2\n",
      "\n",
      "feature_name- Var1 : total_category- 19\n",
      "\n",
      "feature_name- Filled_Form : total_category- 2\n",
      "\n",
      "feature_name- Device_Type : total_category- 2\n",
      "\n",
      "feature_name- Var2 : total_category- 7\n",
      "\n",
      "feature_name- Source : total_category- 30\n"
     ]
    }
   ],
   "source": [
    "# Understanding the categorical variables\n",
    "cat_columns = []\n",
    "num_col = []\n",
    "for i in train.columns:\n",
    "    if train[i].dtype == 'O':\n",
    "        cat_columns.append(i)\n",
    "        print('\\nfeature_name-',i,':','total_category-',len(np.unique(train[i].apply(str))))\n",
    "    else:\n",
    "        num_col.append(i)"
   ]
  },
  {
   "cell_type": "code",
   "execution_count": 13,
   "metadata": {},
   "outputs": [
    {
     "name": "stderr",
     "output_type": "stream",
     "text": [
      "No handles with labels found to put in legend.\n"
     ]
    },
    {
     "data": {
      "text/plain": [
       "0.01462882096069869"
      ]
     },
     "execution_count": 13,
     "metadata": {},
     "output_type": "execute_result"
    },
    {
     "data": {
      "image/png": "[encoded data removed]",
      "text/plain": [
       "<Figure size 864x576 with 1 Axes>"
      ]
     },
     "metadata": {
      "needs_background": "light"
     },
     "output_type": "display_data"
    }
   ],
   "source": [
    "#percentage Disbursed in train\n",
    "t1 = train['Disbursed'].value_counts() * 1.0 / train.shape[0]\n",
    "\n",
    "\n",
    "plt.figure(figsize=(12,8))\n",
    "t1 = sns.barplot(t1.index, t1.values, alpha=0.8, color=p[0])\n",
    "plt.legend()\n",
    "plt.xlabel('Disbursed', fontsize=12)\n",
    "plt.ylabel('percentage', fontsize=12)\n",
    "plt.xticks(rotation = 90)\n",
    "\n",
    "\n",
    "# percentage of postive class\n",
    "np.sum(train.Disbursed) * 1.0/train.shape[0]\n",
    "# only 1.4 %  class fall under imbalanced class\n"
   ]
  },
  {
   "cell_type": "code",
   "execution_count": 14,
   "metadata": {},
   "outputs": [
    {
     "data": {
      "text/plain": [
       "(array([-25000.,      0.,  25000.,  50000.,  75000., 100000., 125000.,\n",
       "        150000., 175000., 200000., 225000.]),\n",
       " <a list of 11 Text xticklabel objects>)"
      ]
     },
     "execution_count": 14,
     "metadata": {},
     "output_type": "execute_result"
    },
    {
     "data": {
      "image/png": "[encoded data removed]",
      "text/plain": [
       "<Figure size 432x288 with 1 Axes>"
      ]
     },
     "metadata": {
      "needs_background": "light"
     },
     "output_type": "display_data"
    }
   ],
   "source": [
    "#Distibution of Monthly_Income in train  from 0 to 200000\n",
    "\n",
    "%matplotlib inline\n",
    "train['Monthly_Income'].hist(bins=50,range= (0,200000),label = 'train')\n",
    "test['Monthly_Income'].hist(bins=50,range= (0,200000),label = 'test')\n",
    "plt.legend()\n",
    "plt.xlabel('Monthly_Income', fontsize=12)\n",
    "plt.ylabel('distribution', fontsize=12)\n",
    "plt.xticks(rotation = 90)"
   ]
  },
  {
   "cell_type": "code",
   "execution_count": 15,
   "metadata": {},
   "outputs": [
    {
     "data": {
      "text/plain": [
       "(array([-25000.,      0.,  25000.,  50000.,  75000., 100000., 125000.,\n",
       "        150000., 175000., 200000., 225000.]),\n",
       " <a list of 11 Text xticklabel objects>)"
      ]
     },
     "execution_count": 15,
     "metadata": {},
     "output_type": "execute_result"
    },
    {
     "data": {
      "image/png": "[encoded data removed]",
      "text/plain": [
       "<Figure size 432x288 with 1 Axes>"
      ]
     },
     "metadata": {
      "needs_background": "light"
     },
     "output_type": "display_data"
    }
   ],
   "source": [
    "#Distibution of Existing_EMI   from 0 to 200000\n",
    "%matplotlib inline\n",
    "train['Existing_EMI'].hist(bins=50,range= (0,200000),label = 'train')\n",
    "test['Existing_EMI'].hist(bins=50,range= (0,200000),label = 'test')\n",
    "plt.legend()\n",
    "plt.xlabel('Existing_EMI', fontsize=12)\n",
    "plt.ylabel('distribution', fontsize=12)\n",
    "plt.xticks(rotation = 90)"
   ]
  },
  {
   "cell_type": "code",
   "execution_count": 16,
   "metadata": {},
   "outputs": [
    {
     "data": {
      "text/plain": [
       "(array([-500000.,       0.,  500000., 1000000., 1500000., 2000000.,\n",
       "        2500000., 3000000., 3500000.]),\n",
       " <a list of 9 Text xticklabel objects>)"
      ]
     },
     "execution_count": 16,
     "metadata": {},
     "output_type": "execute_result"
    },
    {
     "data": {
      "image/png": "[encoded data removed]",
      "text/plain": [
       "<Figure size 432x288 with 1 Axes>"
      ]
     },
     "metadata": {
      "needs_background": "light"
     },
     "output_type": "display_data"
    }
   ],
   "source": [
    "#Distibution of Loan_Amount_Submitted  \n",
    "%matplotlib inline\n",
    "train['Loan_Amount_Submitted'].hist(bins=50,label = 'train')\n",
    "test['Loan_Amount_Submitted'].hist(bins=50,label = 'test')\n",
    "#plt.figure(figsize=(12,8))\n",
    "plt.legend()\n",
    "plt.xlabel('Loan_Amount_Submitted', fontsize=12)\n",
    "plt.ylabel('distribution', fontsize=12)\n",
    "plt.xticks(rotation = 90)"
   ]
  },
  {
   "cell_type": "code",
   "execution_count": 17,
   "metadata": {},
   "outputs": [
    {
     "data": {
      "text/plain": [
       "(array([10., 15., 20., 25., 30., 35., 40.]),\n",
       " <a list of 7 Text xticklabel objects>)"
      ]
     },
     "execution_count": 17,
     "metadata": {},
     "output_type": "execute_result"
    },
    {
     "data": {
      "image/png": "[encoded data removed]",
      "text/plain": [
       "<Figure size 432x288 with 1 Axes>"
      ]
     },
     "metadata": {
      "needs_background": "light"
     },
     "output_type": "display_data"
    }
   ],
   "source": [
    "#Distibution of Interest_Rate in train \n",
    "train['Interest_Rate'].hist(bins=50,label = 'train')\n",
    "test['Interest_Rate'].hist(bins=50,label = 'test')\n",
    "#plt.figure(figsize=(12,8))\n",
    "plt.legend()\n",
    "plt.xlabel('Interest_Rate', fontsize=12)\n",
    "plt.ylabel('distribution', fontsize=12)\n",
    "plt.xticks(rotation = 90)"
   ]
  },
  {
   "cell_type": "code",
   "execution_count": 18,
   "metadata": {},
   "outputs": [
    {
     "data": {
      "text/plain": [
       "(array([ 0,  1,  2,  3,  4,  5,  6,  7,  8,  9, 10, 11, 12, 13, 14, 15, 16,\n",
       "        17, 18, 19, 20, 21, 22, 23, 24, 25, 26, 27]),\n",
       " <a list of 28 Text xticklabel objects>)"
      ]
     },
     "execution_count": 18,
     "metadata": {},
     "output_type": "execute_result"
    },
    {
     "data": {
      "image/png": "[encoded data removed]",
      "text/plain": [
       "<Figure size 864x576 with 1 Axes>"
      ]
     },
     "metadata": {
      "needs_background": "light"
     },
     "output_type": "display_data"
    }
   ],
   "source": [
    "# source counts in train and test\n",
    "\n",
    "t1 = train['Source'].value_counts()\n",
    "t2 = test['Source'].value_counts()\n",
    "\n",
    "plt.figure(figsize=(12,8))\n",
    "t1 = sns.barplot(t1.index, t1.values, alpha=0.8, color=p[0], label='train')\n",
    "t2 = sns.barplot(t2.index, t2.values, alpha=0.6, color=p[1], label='test')\n",
    "plt.legend()\n",
    "plt.xlabel('Source', fontsize=12)\n",
    "plt.ylabel('count', fontsize=12)\n",
    "plt.xticks(rotation = 90)"
   ]
  },
  {
   "cell_type": "code",
   "execution_count": 19,
   "metadata": {},
   "outputs": [
    {
     "data": {
      "text/plain": [
       "(array([ 0,  1,  2,  3,  4,  5,  6,  7,  8,  9, 10, 11, 12, 13, 14, 15, 16,\n",
       "        17, 18, 19, 20, 21, 22, 23, 24, 25, 26, 27, 28, 29, 30, 31, 32, 33,\n",
       "        34, 35, 36, 37, 38, 39, 40, 41, 42, 43, 44, 45, 46, 47, 48, 49, 50,\n",
       "        51, 52, 53, 54, 55, 56]),\n",
       " <a list of 57 Text xticklabel objects>)"
      ]
     },
     "execution_count": 19,
     "metadata": {},
     "output_type": "execute_result"
    },
    {
     "data": {
      "image/png": "[encoded data removed]",
      "text/plain": [
       "<Figure size 864x576 with 1 Axes>"
      ]
     },
     "metadata": {
      "needs_background": "light"
     },
     "output_type": "display_data"
    }
   ],
   "source": [
    "# count of Salary_Account\n",
    "t1 = train['Salary_Account'].value_counts()\n",
    "t2 = test['Salary_Account'].value_counts()\n",
    "\n",
    "plt.figure(figsize=(12,8))\n",
    "t1 = sns.barplot(t1.index, t1.values, alpha=0.8, color=p[0], label='train')\n",
    "t2 = sns.barplot(t2.index, t2.values, alpha=0.6, color=p[1], label='test')\n",
    "plt.legend()\n",
    "plt.xlabel('Salary_Account', fontsize=12)\n",
    "plt.ylabel('count', fontsize=12)\n",
    "plt.xticks(rotation = 90)\n"
   ]
  },
  {
   "cell_type": "code",
   "execution_count": 20,
   "metadata": {},
   "outputs": [
    {
     "data": {
      "text/plain": [
       "(array([0, 1]), <a list of 2 Text xticklabel objects>)"
      ]
     },
     "execution_count": 20,
     "metadata": {},
     "output_type": "execute_result"
    },
    {
     "data": {
      "image/png": "[encoded data removed]",
      "text/plain": [
       "<Figure size 864x576 with 1 Axes>"
      ]
     },
     "metadata": {
      "needs_background": "light"
     },
     "output_type": "display_data"
    }
   ],
   "source": [
    "# Filled_Form count\n",
    "t1 = train['Filled_Form'].value_counts()\n",
    "t2 = test['Filled_Form'].value_counts()\n",
    "\n",
    "plt.figure(figsize=(12,8))\n",
    "t1 = sns.barplot(t1.index, t1.values, alpha=0.8, color=p[0], label='train')\n",
    "t2 = sns.barplot(t2.index, t2.values, alpha=0.6, color=p[1], label='test')\n",
    "plt.legend()\n",
    "plt.xlabel('Filled_Form', fontsize=12)\n",
    "plt.ylabel('count', fontsize=12)\n",
    "plt.xticks(rotation = 90)\n"
   ]
  },
  {
   "cell_type": "code",
   "execution_count": 21,
   "metadata": {},
   "outputs": [
    {
     "data": {
      "text/plain": [
       "(array([0, 1, 2, 3, 4, 5, 6]), <a list of 7 Text xticklabel objects>)"
      ]
     },
     "execution_count": 21,
     "metadata": {},
     "output_type": "execute_result"
    },
    {
     "data": {
      "image/png": "[encoded data removed]",
      "text/plain": [
       "<Figure size 864x576 with 1 Axes>"
      ]
     },
     "metadata": {
      "needs_background": "light"
     },
     "output_type": "display_data"
    }
   ],
   "source": [
    "# Var2 count\n",
    "t1 = train['Var2'].value_counts()\n",
    "t2 = test['Var2'].value_counts()\n",
    "\n",
    "plt.figure(figsize=(12,8))\n",
    "t1 = sns.barplot(t1.index, t1.values, alpha=0.8, color=p[0], label='train')\n",
    "t2 = sns.barplot(t2.index, t2.values, alpha=0.6, color=p[1], label='test')\n",
    "plt.legend()\n",
    "plt.xlabel('Var2', fontsize=12)\n",
    "plt.ylabel('count', fontsize=12)\n",
    "plt.xticks(rotation = 90)\n"
   ]
  },
  {
   "cell_type": "code",
   "execution_count": 22,
   "metadata": {},
   "outputs": [
    {
     "data": {
      "text/plain": [
       "(array([0, 1]), <a list of 2 Text xticklabel objects>)"
      ]
     },
     "execution_count": 22,
     "metadata": {},
     "output_type": "execute_result"
    },
    {
     "data": {
      "image/png": "[encoded data removed]",
      "text/plain": [
       "<Figure size 864x576 with 1 Axes>"
      ]
     },
     "metadata": {
      "needs_background": "light"
     },
     "output_type": "display_data"
    }
   ],
   "source": [
    "# Device_Type form count\n",
    "t1 = train['Device_Type'].value_counts()\n",
    "t2 = test['Device_Type'].value_counts()\n",
    "\n",
    "plt.figure(figsize=(12,8))\n",
    "t1 = sns.barplot(t1.index, t1.values, alpha=0.8, color=p[0], label='train')\n",
    "t2 = sns.barplot(t2.index, t2.values, alpha=0.6, color=p[1], label='test')\n",
    "plt.legend()\n",
    "plt.xlabel('Device_Type', fontsize=12)\n",
    "plt.ylabel('count', fontsize=12)\n",
    "plt.xticks(rotation = 90)\n"
   ]
  },
  {
   "cell_type": "code",
   "execution_count": 23,
   "metadata": {},
   "outputs": [
    {
     "data": {
      "text/plain": [
       "(array([ 0,  1,  2,  3,  4,  5,  6,  7,  8,  9, 10, 11, 12, 13, 14, 15, 16,\n",
       "        17, 18]),\n",
       " <a list of 19 Text xticklabel objects>)"
      ]
     },
     "execution_count": 23,
     "metadata": {},
     "output_type": "execute_result"
    },
    {
     "data": {
      "image/png": "[encoded data removed]",
      "text/plain": [
       "<Figure size 864x576 with 1 Axes>"
      ]
     },
     "metadata": {
      "needs_background": "light"
     },
     "output_type": "display_data"
    }
   ],
   "source": [
    "# top 20 cities  \n",
    "t1 = train['City'].value_counts()[1:20]\n",
    "t2 = test['City'].value_counts()[1:20]\n",
    "\n",
    "plt.figure(figsize=(12,8))\n",
    "t1 = sns.barplot(t1.index, t1.values, alpha=0.8, color=p[0], label='train')\n",
    "t2 = sns.barplot(t2.index, t2.values, alpha=0.6, color=p[1], label='test')\n",
    "plt.legend()\n",
    "plt.xlabel('City', fontsize=12)\n",
    "plt.ylabel('count', fontsize=12)\n",
    "plt.xticks(rotation = 90)\n"
   ]
  },
  {
   "cell_type": "code",
   "execution_count": 24,
   "metadata": {},
   "outputs": [
    {
     "data": {
      "text/plain": [
       "Text(0, 0.5, 'Loan_Tenure_Submitted')"
      ]
     },
     "execution_count": 24,
     "metadata": {},
     "output_type": "execute_result"
    },
    {
     "data": {
      "image/png": "[encoded data removed]",
      "text/plain": [
       "<Figure size 720x576 with 2 Axes>"
      ]
     },
     "metadata": {
      "needs_background": "light"
     },
     "output_type": "display_data"
    }
   ],
   "source": [
    "\n",
    "# scatter plot between Interest_Rate and Loan_Tenure_Submitted in train\n",
    "x = train.Interest_Rate\n",
    "y = train.Loan_Tenure_Submitted\n",
    "colors = ['red','blue']\n",
    "label = train.Disbursed\n",
    "fig = plt.figure(figsize=(10,8))\n",
    "plt.scatter(x, y, c= label, cmap=matplotlib.colors.ListedColormap(colors))\n",
    "\n",
    "cb = plt.colorbar()\n",
    "loc = np.arange(0,max(label),max(label)/float(len(colors)))\n",
    "cb.set_ticks(loc)\n",
    "cb.set_ticklabels(colors)\n",
    "plt.xlabel('Interest_Rate')\n",
    "plt.ylabel('Loan_Tenure_Submitted')"
   ]
  },
  {
   "cell_type": "code",
   "execution_count": 25,
   "metadata": {},
   "outputs": [
    {
     "data": {
      "text/plain": [
       "Text(0, 0.5, 'Var4')"
      ]
     },
     "execution_count": 25,
     "metadata": {},
     "output_type": "execute_result"
    },
    {
     "data": {
      "image/png": "[encoded data removed]",
      "text/plain": [
       "<Figure size 720x576 with 2 Axes>"
      ]
     },
     "metadata": {
      "needs_background": "light"
     },
     "output_type": "display_data"
    }
   ],
   "source": [
    "\n",
    "# scatter plot between Var5 and Var4 in train\n",
    "x = train.Var5\n",
    "y = train.Var4\n",
    "colors = ['red','blue']\n",
    "label = train.Disbursed\n",
    "fig = plt.figure(figsize=(10,8))\n",
    "plt.scatter(x, y, c= label, cmap=matplotlib.colors.ListedColormap(colors))\n",
    "\n",
    "cb = plt.colorbar()\n",
    "loc = np.arange(0,max(label),max(label)/float(len(colors)))\n",
    "cb.set_ticks(loc)\n",
    "cb.set_ticklabels(colors)\n",
    "plt.xlabel('Var5')\n",
    "plt.ylabel('Var4')"
   ]
  },
  {
   "cell_type": "code",
   "execution_count": 26,
   "metadata": {},
   "outputs": [
    {
     "name": "stdout",
     "output_type": "stream",
     "text": [
      "\n",
      "Number of observation\n",
      "Filled_Form      N      Y\n",
      "Disbursed                \n",
      "0            66704  19043\n",
      "1              826    447\n",
      "\n",
      "Proportinate of outcome yes\n",
      "Filled_Form         N         Y\n",
      "Disbursed                      \n",
      "0            0.987768  0.977065\n",
      "1            0.012232  0.022935\n",
      "\n"
     ]
    },
    {
     "data": {
      "image/png": "[encoded data removed]",
      "text/plain": [
       "<Figure size 432x288 with 1 Axes>"
      ]
     },
     "metadata": {
      "needs_background": "light"
     },
     "output_type": "display_data"
    }
   ],
   "source": [
    "# Understand the relationship b/w Filled_Form type and Disbursed\n",
    "temp3 = pd.crosstab(train['Filled_Form'], train['Disbursed'])\n",
    "temp1 = train.groupby(['Filled_Form']).count()['ID']\n",
    "temp3.plot(kind='bar', stacked=True, color=['red','blue'], grid=False)\n",
    "\n",
    "print(\"\\nNumber of observation\")\n",
    "print(temp3.transpose())\n",
    "\n",
    "print(\"\\nProportinate of outcome yes\")\n",
    "print(temp3.transpose()/temp1.values)\n",
    "print()\n",
    "\n",
    " \n",
    "\n"
   ]
  },
  {
   "cell_type": "code",
   "execution_count": 27,
   "metadata": {},
   "outputs": [
    {
     "name": "stdout",
     "output_type": "stream",
     "text": [
      "\n",
      "Number of observation\n",
      "Interest_Rate    -1    11   12    13    14    15    16   17    18   19  ...  \\\n",
      "Disbursed                                                               ...   \n",
      "0              58612   85  176  3343  2790  3551  2382  834  3375  820  ...   \n",
      "1                682    5   15   154   156   125    45   12    32    9  ...   \n",
      "\n",
      "Interest_Rate   26   27   28   29   30    31   32   33   35   37  \n",
      "Disbursed                                                         \n",
      "0               15  221  951   72   13  1749  212  156  492  302  \n",
      "1                1    2    5    0    0     3    0    2    1    0  \n",
      "\n",
      "[2 rows x 26 columns]\n",
      "\n",
      "Proportinate of outcome yes\n",
      "Interest_Rate       -1         11        12        13        14        15  \\\n",
      "Disbursed                                                                   \n",
      "0              0.988498  0.944444  0.921466  0.955962  0.947047  0.965996   \n",
      "1              0.011502  0.055556  0.078534  0.044038  0.052953  0.034004   \n",
      "\n",
      "Interest_Rate        16        17        18        19  ...      26        27  \\\n",
      "Disbursed                                              ...                     \n",
      "0              0.981459  0.985816  0.990608  0.989144  ...  0.9375  0.991031   \n",
      "1              0.018541  0.014184  0.009392  0.010856  ...  0.0625  0.008969   \n",
      "\n",
      "Interest_Rate       28   29   30        31   32        33        35   37  \n",
      "Disbursed                                                                 \n",
      "0              0.99477  1.0  1.0  0.998288  1.0  0.987342  0.997972  1.0  \n",
      "1              0.00523  0.0  0.0  0.001712  0.0  0.012658  0.002028  0.0  \n",
      "\n",
      "[2 rows x 26 columns]\n",
      "\n"
     ]
    },
    {
     "data": {
      "image/png": "[encoded data removed]",
      "text/plain": [
       "<Figure size 432x288 with 1 Axes>"
      ]
     },
     "metadata": {
      "needs_background": "light"
     },
     "output_type": "display_data"
    }
   ],
   "source": [
    "# Understand the relationship b/w Interest_Rate and Outcome (-1 shows the null)\n",
    "Interest_Rate  = train[['Interest_Rate','Disbursed']].replace(np.nan , -1)\n",
    "Interest_Rate['Interest_Rate'] = Interest_Rate.Interest_Rate.astype(int)\n",
    "temp3 = pd.crosstab(Interest_Rate['Interest_Rate'], Interest_Rate['Disbursed'])\n",
    "temp1 = Interest_Rate.groupby(['Interest_Rate']).count()['Disbursed']\n",
    "temp3.plot(kind='bar', stacked=True, color=['red','blue'], grid=False)\n",
    "\n",
    "print(\"\\nNumber of observation\")\n",
    "print(temp3.transpose())\n",
    "\n",
    "print(\"\\nProportinate of outcome yes\")\n",
    "print(temp3.transpose()/temp1.values)\n",
    "print()\n",
    "\n"
   ]
  },
  {
   "cell_type": "code",
   "execution_count": 28,
   "metadata": {},
   "outputs": [
    {
     "name": "stdout",
     "output_type": "stream",
     "text": [
      "\n",
      "Number of observation\n",
      "Var2       A      B      C    D     E    F      G\n",
      "Disbursed                                        \n",
      "0          5  36652  14034  634  1294  538  32590\n",
      "1          0    628    176    0    21    6    442\n",
      "\n",
      "Proportinate of outcome yes\n",
      "Var2         A         B         C    D        E         F         G\n",
      "Disbursed                                                           \n",
      "0          1.0  0.983155  0.987614  1.0  0.98403  0.988971  0.986619\n",
      "1          0.0  0.016845  0.012386  0.0  0.01597  0.011029  0.013381\n",
      "\n"
     ]
    },
    {
     "data": {
      "image/png": "[encoded data removed]",
      "text/plain": [
       "<Figure size 432x288 with 1 Axes>"
      ]
     },
     "metadata": {
      "needs_background": "light"
     },
     "output_type": "display_data"
    }
   ],
   "source": [
    "# Understand the relationship b/w Var2 type and Disbursed\n",
    "temp3 = pd.crosstab(train['Var2'], train['Disbursed'])\n",
    "temp1 = train.groupby(['Var2']).count()['ID']\n",
    "temp3.plot(kind='bar', stacked=True, color=['red','blue'], grid=False)\n",
    "\n",
    "print( \"\\nNumber of observation\")\n",
    "print( temp3.transpose())\n",
    "\n",
    "print( \"\\nProportinate of outcome yes\")\n",
    "print( temp3.transpose()/temp1.values)\n",
    "print( )\n",
    "\n",
    " \n",
    "\n"
   ]
  },
  {
   "cell_type": "code",
   "execution_count": 29,
   "metadata": {},
   "outputs": [
    {
     "name": "stdout",
     "output_type": "stream",
     "text": [
      "\n",
      "Number of observation\n",
      "Device_Type  Mobile  Web-browser\n",
      "Disbursed                       \n",
      "0             22440        63307\n",
      "1               264         1009\n",
      "\n",
      "Proportinate of Disbursed yes\n",
      "Device_Type    Mobile  Web-browser\n",
      "Disbursed                         \n",
      "0            0.988372     0.984312\n",
      "1            0.011628     0.015688\n",
      "\n"
     ]
    },
    {
     "data": {
      "image/png": "[encoded data removed]",
      "text/plain": [
       "<Figure size 432x288 with 1 Axes>"
      ]
     },
     "metadata": {
      "needs_background": "light"
     },
     "output_type": "display_data"
    }
   ],
   "source": [
    "# Understand the relationship b/w Device_Type type and Disbursed\n",
    "temp3 = pd.crosstab(train['Device_Type'], train['Disbursed'])\n",
    "temp1 = train.groupby(['Device_Type']).count()['ID']\n",
    "temp3.plot(kind='bar', stacked=True, color=['red','blue'], grid=False)\n",
    "\n",
    "print(\"\\nNumber of observation\")\n",
    "print(temp3.transpose())\n",
    "\n",
    "print(\"\\nProportinate of Disbursed yes\")\n",
    "print(temp3.transpose()/temp1.values)\n",
    "print()\n"
   ]
  },
  {
   "cell_type": "code",
   "execution_count": 30,
   "metadata": {},
   "outputs": [],
   "source": [
    "#Drop the LoggedIn ,ID, Disbursed from the train and ID from the test"
   ]
  },
  {
   "cell_type": "code",
   "execution_count": 31,
   "metadata": {},
   "outputs": [],
   "source": [
    "# convert DOB in datetime format\n",
    "train['DOB'] =  pd.to_datetime(train['DOB'], format = '%d-%b-%y')\n",
    "test['DOB'] =  pd.to_datetime(test['DOB'], format = '%d-%b-%y')"
   ]
  },
  {
   "cell_type": "code",
   "execution_count": 32,
   "metadata": {},
   "outputs": [],
   "source": [
    "# get the age of a persons on date '2017-01-01'\n",
    "train_days = (pd.to_datetime('2017-01-01') - train['DOB'])\n",
    "train_days = train_days.apply(lambda x:x.days )\n",
    "train_days = train_days* 1.0/ 365.0 \n",
    "train['Age'] = train_days\n",
    "\n",
    "# get the age of a persons on date '2017-01-01'\n",
    "test_days = (pd.to_datetime('2017-01-01') - test['DOB'])\n",
    "test_days = test_days.apply(lambda x:x.days )\n",
    "test_days = test_days* 1.0/ 365.0 \n",
    "test['Age'] = test_days"
   ]
  },
  {
   "cell_type": "code",
   "execution_count": 33,
   "metadata": {},
   "outputs": [
    {
     "name": "stdout",
     "output_type": "stream",
     "text": [
      "\n",
      "Number of observation\n",
      "Age_Bucket   -5    -4   -3  -2  -1   0    1      2      3     4\n",
      "Disbursed                                                      \n",
      "0           890  2556  320  15   3  17  118  37708  37329  6791\n",
      "1            22    44    1   0   0   0    0    320    741   145\n",
      "\n",
      "Proportinate of outcome yes\n",
      "Age_Bucket        -5        -4        -3   -2   -1    0    1         2  \\\n",
      "Disbursed                                                                \n",
      "0           0.975877  0.983077  0.996885  1.0  1.0  1.0  1.0  0.991585   \n",
      "1           0.024123  0.016923  0.003115  0.0  0.0  0.0  0.0  0.008415   \n",
      "\n",
      "Age_Bucket         3         4  \n",
      "Disbursed                       \n",
      "0           0.980536  0.979095  \n",
      "1           0.019464  0.020905  \n",
      "\n"
     ]
    },
    {
     "data": {
      "image/png": "[encoded data removed]",
      "text/plain": [
       "<Figure size 432x288 with 1 Axes>"
      ]
     },
     "metadata": {
      "needs_background": "light"
     },
     "output_type": "display_data"
    }
   ],
   "source": [
    "# Understand the relationship b/w Age and Outcome\n",
    "#Convert the Age to age Bucket\n",
    "train['Age_Bucket']=train['Age']/10\n",
    "train['Age_Bucket']=train['Age_Bucket'].astype(int)\n",
    "test['Age_Bucket']=train['Age']/10\n",
    "test['Age_Bucket']=train['Age_Bucket'].astype(int)\n",
    "\n",
    "temp3 = pd.crosstab(train['Age_Bucket'], train['Disbursed'])\n",
    "temp1 = train.groupby(['Age_Bucket']).count()['ID']\n",
    "temp3.plot(kind='bar', stacked=True, color=['red','blue'], grid=False).legend(bbox_to_anchor = (1.2,0.5))\n",
    "print(\"\\nNumber of observation\")\n",
    "print(temp3.transpose())\n",
    "\n",
    "print(\"\\nProportinate of outcome yes\")\n",
    "print(temp3.transpose()/temp1.values)\n",
    "print()\n",
    "\n"
   ]
  },
  {
   "cell_type": "code",
   "execution_count": 34,
   "metadata": {},
   "outputs": [],
   "source": [
    "# get the month and year from lead creation \n",
    "train['Lead_Creation_Date'] =  pd.to_datetime(train['Lead_Creation_Date'], format = '%d-%b-%y')\n",
    "test['Lead_Creation_Date'] =  pd.to_datetime(test['Lead_Creation_Date'], format = '%d-%b-%y')\n",
    "train['month'] = train.Lead_Creation_Date.dt.month\n",
    "train['year'] = train.Lead_Creation_Date.dt.year\n",
    "test['month'] = test.Lead_Creation_Date.dt.month\n",
    "test['year'] = test.Lead_Creation_Date.dt.year"
   ]
  },
  {
   "cell_type": "markdown",
   "metadata": {},
   "source": [
    "# Model building "
   ]
  },
  {
   "cell_type": "code",
   "execution_count": 35,
   "metadata": {},
   "outputs": [],
   "source": [
    "#Drop the  Disbursed, LoggedIn, Lead_Creation_Date, ID, DOB from the train and Lead_Creation_Date, ID, DOB from the test"
   ]
  },
  {
   "cell_type": "code",
   "execution_count": 36,
   "metadata": {},
   "outputs": [],
   "source": [
    "Outcome = train.Disbursed\n",
    "test_ID = test.ID\n",
    "train  = train.drop(['Disbursed', 'LoggedIn', 'Lead_Creation_Date', 'ID', 'DOB'],axis =1 )\n",
    "test  = test.drop([ 'Lead_Creation_Date', 'ID', 'DOB'],axis =1 )"
   ]
  },
  {
   "cell_type": "code",
   "execution_count": 37,
   "metadata": {},
   "outputs": [],
   "source": [
    "# fille the null values with -1\n",
    "train.replace(np.nan , -1,inplace  =True)\n",
    "test.replace(np.nan , -1,inplace  =True)"
   ]
  },
  {
   "cell_type": "code",
   "execution_count": 38,
   "metadata": {},
   "outputs": [
    {
     "name": "stdout",
     "output_type": "stream",
     "text": [
      "Label Encoding for feature: Gender\n",
      "Label Encoding for feature: City\n",
      "Label Encoding for feature: Employer_Name\n",
      "Label Encoding for feature: Salary_Account\n",
      "Label Encoding for feature: Mobile_Verified\n",
      "Label Encoding for feature: Var1\n",
      "Label Encoding for feature: Filled_Form\n",
      "Label Encoding for feature: Device_Type\n",
      "Label Encoding for feature: Var2\n",
      "Label Encoding for feature: Source\n"
     ]
    }
   ],
   "source": [
    "# We have to convert all categorical variables into numerical\n",
    "from sklearn import preprocessing\n",
    "for f in train.columns:\n",
    "    if train[f].dtype=='object':    \n",
    "        print('Label Encoding for feature:',f)\n",
    "        lbl = preprocessing.LabelEncoder()\n",
    "        lbl.fit(list(train[f].values) + list(test[f].values))\n",
    "        train[f] = lbl.transform(list(train[f].values))\n",
    "        test[f] = lbl.transform(list(test[f].values)) "
   ]
  },
  {
   "cell_type": "code",
   "execution_count": 39,
   "metadata": {},
   "outputs": [],
   "source": [
    "from sklearn.linear_model import LogisticRegression\n",
    "from sklearn.tree import DecisionTreeClassifier\n",
    "from sklearn.ensemble import RandomForestClassifier\n",
    "# Create the object of models\n",
    "LR = LogisticRegression(max_iter=10000)\n",
    "DT = DecisionTreeClassifier()\n",
    "RF = RandomForestClassifier()"
   ]
  },
  {
   "cell_type": "code",
   "execution_count": 40,
   "metadata": {},
   "outputs": [],
   "source": [
    "# Apply LogisticRegression\n",
    "model_LR = LR.fit(train,Outcome)\n",
    "prediction_LR = model_LR.predict(test)\n",
    "sub_LR = pd.DataFrame({'ID':test_ID,'Disbursed':prediction_LR})\n",
    "sub_LR.to_csv('SUB_LR.csv',index = False)"
   ]
  },
  {
   "cell_type": "code",
   "execution_count": 41,
   "metadata": {},
   "outputs": [],
   "source": [
    "#Apply DecisionTreeClassifier\n",
    "model_DT = DT.fit(train,Outcome)\n",
    "predictions_DT = model_DT.predict(test)\n",
    "sub_DT = pd.DataFrame({'ID':test_ID,'Disbursed':predictions_DT})\n",
    "sub_DT.to_csv('SUB_DT.csv',index = False)"
   ]
  },
  {
   "cell_type": "code",
   "execution_count": 42,
   "metadata": {},
   "outputs": [],
   "source": [
    "# Apply RandomForestClassifier\n",
    "#RandomForestClassifier Accuracy  0.891437433679\n",
    "model_RF = RF.fit(train,Outcome)\n",
    "predictions_RF = model_RF.predict(test)\n",
    "sub_RF = pd.DataFrame({'ID':test_ID,'Disbursed':predictions_RF})\n",
    "sub_RF.to_csv('SUB_RF.csv',index = False)"
   ]
  },
  {
   "cell_type": "code",
   "execution_count": 43,
   "metadata": {},
   "outputs": [
    {
     "data": {
      "text/plain": [
       "year                     0.000000\n",
       "Mobile_Verified          0.001642\n",
       "Device_Type              0.003410\n",
       "Filled_Form              0.004982\n",
       "Gender                   0.008676\n",
       "Var2                     0.014578\n",
       "Var4                     0.018302\n",
       "Var1                     0.019113\n",
       "Age_Bucket               0.021606\n",
       "month                    0.022701\n",
       "Interest_Rate            0.022890\n",
       "Loan_Tenure_Submitted    0.024320\n",
       "Loan_Tenure_Applied      0.030900\n",
       "Processing_Fee           0.031459\n",
       "Source                   0.031937\n",
       "Loan_Amount_Applied      0.040004\n",
       "EMI_Loan_Submitted       0.040708\n",
       "Loan_Amount_Submitted    0.046715\n",
       "Var5                     0.054521\n",
       "Salary_Account           0.061195\n",
       "Existing_EMI             0.068425\n",
       "City                     0.070567\n",
       "Monthly_Income           0.104555\n",
       "Employer_Name            0.127447\n",
       "Age                      0.129347\n",
       "dtype: float64"
      ]
     },
     "execution_count": 43,
     "metadata": {},
     "output_type": "execute_result"
    }
   ],
   "source": [
    "# feature importance\n",
    "importances = model_RF.feature_importances_\n",
    "important=pd.Series(importances,index= train.columns)\n",
    "important.sort_values(axis=0, ascending=True)"
   ]
  },
  {
   "cell_type": "code",
   "execution_count": null,
   "metadata": {},
   "outputs": [],
   "source": []
  }
 ],
 "metadata": {
  "kernelspec": {
   "display_name": "Python 3",
   "language": "python",
   "name": "python3"
  },
  "language_info": {
   "codemirror_mode": {
    "name": "ipython",
    "version": 3
   },
   "file_extension": ".py",
   "mimetype": "text/x-python",
   "name": "python",
   "nbconvert_exporter": "python",
   "pygments_lexer": "ipython3",
   "version": "3.7.6"
  }
 },
 "nbformat": 4,
 "nbformat_minor": 1
}
